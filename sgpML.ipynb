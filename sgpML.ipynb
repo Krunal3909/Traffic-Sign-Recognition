{
  "nbformat": 4,
  "nbformat_minor": 0,
  "metadata": {
    "accelerator": "GPU",
    "colab": {
      "name": "sgpML.ipynb",
      "provenance": [],
      "collapsed_sections": [],
      "toc_visible": true
    },
    "kernelspec": {
      "display_name": "Python 3",
      "name": "python3"
    },
    "language_info": {
      "name": "python"
    }
  },
  "cells": [
    {
      "cell_type": "markdown",
      "metadata": {
        "id": "J15kC7bpsr7U"
      },
      "source": [
        "# Mounting Google Drive to Colab"
      ]
    },
    {
      "cell_type": "code",
      "metadata": {
        "id": "uUrZrzTlqcIU",
        "colab": {
          "base_uri": "https://localhost:8080/"
        },
        "outputId": "044555cf-4537-4587-c968-7a87d155d823"
      },
      "source": [
        "from google.colab import drive\n",
        "drive.mount('/content/gdrive')"
      ],
      "execution_count": null,
      "outputs": [
        {
          "output_type": "stream",
          "text": [
            "Mounted at /content/gdrive\n"
          ],
          "name": "stdout"
        }
      ]
    },
    {
      "cell_type": "markdown",
      "metadata": {
        "id": "MhwCpBDyskDC"
      },
      "source": [
        "# Import required libraries\n"
      ]
    },
    {
      "cell_type": "code",
      "metadata": {
        "id": "hrGqFQBbp4TM"
      },
      "source": [
        "import numpy as np \n",
        "import pandas as pd \n",
        "import matplotlib.pyplot as plt\n",
        "import cv2\n",
        "import tensorflow as tf\n",
        "from PIL import Image\n",
        "import os\n",
        "os.chdir('/content/gdrive/MyDrive/Traffic_Sign/')\n",
        "from sklearn.model_selection import train_test_split\n",
        "from keras.utils import to_categorical\n",
        "from keras.models import Sequential, load_model\n",
        "from keras.layers import Conv2D, MaxPool2D, Dense, Flatten, Dropout"
      ],
      "execution_count": null,
      "outputs": []
    },
    {
      "cell_type": "markdown",
      "metadata": {
        "id": "5WO3IkIZs0Kz"
      },
      "source": [
        "# Store data, labels in the list\n"
      ]
    },
    {
      "cell_type": "code",
      "metadata": {
        "id": "AwsTu31Sp_cz",
        "colab": {
          "base_uri": "https://localhost:8080/",
          "height": 35
        },
        "outputId": "e7d27871-bdf5-43ed-ab4f-1188e3edc9e7"
      },
      "source": [
        "data = []\n",
        "labels = []\n",
        "# We have 43 Classes\n",
        "classes = 43\n",
        "cur_path = os.getcwd()\n",
        "cur_path"
      ],
      "execution_count": null,
      "outputs": [
        {
          "output_type": "execute_result",
          "data": {
            "application/vnd.google.colaboratory.intrinsic+json": {
              "type": "string"
            },
            "text/plain": [
              "'/content/gdrive/My Drive/Traffic_Sign'"
            ]
          },
          "metadata": {
            "tags": []
          },
          "execution_count": 3
        }
      ]
    },
    {
      "cell_type": "markdown",
      "metadata": {
        "id": "4pu0q6iptAja"
      },
      "source": [
        "# Preprocess the images"
      ]
    },
    {
      "cell_type": "code",
      "metadata": {
        "id": "hBQfJaK_rK4r"
      },
      "source": [
        "for i in range(classes):\n",
        "    path = os.path.join(cur_path,'train',str(i))\n",
        "    images = os.listdir(path)\n",
        "    for a in images:\n",
        "        try:\n",
        "            image = Image.open(path + '//'+ a)\n",
        "            image = image.resize((30,30))\n",
        "            image = np.array(image)\n",
        "            data.append(image)\n",
        "            labels.append(i)\n",
        "        except Exception as e:\n",
        "            print(e)"
      ],
      "execution_count": null,
      "outputs": []
    },
    {
      "cell_type": "markdown",
      "metadata": {
        "id": "AcIAtkIltFZD"
      },
      "source": [
        "# Converting lists into numpy arrays"
      ]
    },
    {
      "cell_type": "code",
      "metadata": {
        "id": "0cBNdFK6rLpD"
      },
      "source": [
        "data = np.array(data)\n",
        "labels = np.array(labels)"
      ],
      "execution_count": null,
      "outputs": []
    },
    {
      "cell_type": "markdown",
      "metadata": {
        "id": "GEa0wO_3tJ5b"
      },
      "source": [
        "# Save Labels & Data for future use"
      ]
    },
    {
      "cell_type": "code",
      "metadata": {
        "id": "KYNwSrefrPMj"
      },
      "source": [
        " os.mkdir('training')\n",
        "\n",
        "np.save('./training/data',data)\n",
        "np.save('./training/target',labels)"
      ],
      "execution_count": null,
      "outputs": []
    },
    {
      "cell_type": "markdown",
      "metadata": {
        "id": "zyPwJEv_tPJT"
      },
      "source": [
        "# Load data & Labels"
      ]
    },
    {
      "cell_type": "code",
      "metadata": {
        "id": "vWajS3igrRqD"
      },
      "source": [
        "data=np.load('./training/data.npy')\n",
        "labels=np.load('./training/target.npy')"
      ],
      "execution_count": null,
      "outputs": []
    },
    {
      "cell_type": "code",
      "metadata": {
        "id": "U14MXNnurVYb"
      },
      "source": [
        "print(data.shape, labels.shape)\n"
      ],
      "execution_count": null,
      "outputs": []
    },
    {
      "cell_type": "code",
      "metadata": {
        "id": "eim4o5X3rXDr"
      },
      "source": [
        "X_train, X_test, y_train, y_test = train_test_split(data, labels, test_size=0.2, random_state=0)\n"
      ],
      "execution_count": null,
      "outputs": []
    },
    {
      "cell_type": "code",
      "metadata": {
        "id": "0p5NuMyrrZNK"
      },
      "source": [
        "print(X_train.shape, X_test.shape, y_train.shape, y_test.shape)\n"
      ],
      "execution_count": null,
      "outputs": []
    },
    {
      "cell_type": "markdown",
      "metadata": {
        "id": "CnqhP-NFtTBC"
      },
      "source": [
        "# Convert labels to onehot encoding"
      ]
    },
    {
      "cell_type": "code",
      "metadata": {
        "id": "OW8Zcb3rrdRb"
      },
      "source": [
        "\n",
        "y_train = to_categorical(y_train, 43)\n",
        "y_test = to_categorical(y_test, 43)"
      ],
      "execution_count": null,
      "outputs": []
    },
    {
      "cell_type": "markdown",
      "metadata": {
        "id": "-bDa-bQ0tXUS"
      },
      "source": [
        "# Now it's time to build the model"
      ]
    },
    {
      "cell_type": "code",
      "metadata": {
        "id": "6pcOFu-2reED"
      },
      "source": [
        "model = Sequential()\n",
        "model.add(Conv2D(filters=32, kernel_size=(5,5), activation='relu', input_shape=X_train.shape[1:]))\n",
        "model.add(Conv2D(filters=32, kernel_size=(5,5), activation='relu'))\n",
        "model.add(MaxPool2D(pool_size=(2, 2)))\n",
        "model.add(Dropout(rate=0.25))\n",
        "model.add(Conv2D(filters=64, kernel_size=(3, 3), activation='relu'))\n",
        "model.add(Conv2D(filters=64, kernel_size=(3, 3), activation='relu'))\n",
        "model.add(MaxPool2D(pool_size=(2, 2)))\n",
        "model.add(Dropout(rate=0.25))\n",
        "model.add(Flatten())\n",
        "model.add(Dense(256, activation='relu'))\n",
        "model.add(Dropout(rate=0.5))\n",
        "# We have 35 classes that's why we have defined 43 in the dense\n",
        "model.add(Dense(35, activation='softmax'))"
      ],
      "execution_count": null,
      "outputs": []
    },
    {
      "cell_type": "markdown",
      "metadata": {
        "id": "1inp1KogtcUi"
      },
      "source": [
        "Compilation of the model"
      ]
    },
    {
      "cell_type": "code",
      "metadata": {
        "id": "l-JHsixbrg38"
      },
      "source": [
        "model.compile(loss='categorical_crossentropy', optimizer='adam', metrics=['accuracy'])\n"
      ],
      "execution_count": null,
      "outputs": []
    },
    {
      "cell_type": "markdown",
      "metadata": {
        "id": "OKkks6yZtha6"
      },
      "source": [
        "Training of the model"
      ]
    },
    {
      "cell_type": "code",
      "metadata": {
        "id": "0GGU8RtJrj-7"
      },
      "source": [
        "epochs = 50\n",
        "history = model.fit(X_train, y_train, batch_size=32, epochs=epochs, validation_data=(X_test, y_test))"
      ],
      "execution_count": null,
      "outputs": []
    },
    {
      "cell_type": "markdown",
      "metadata": {
        "id": "oP8DcH-Stnyi"
      },
      "source": [
        "# Accuracy"
      ]
    },
    {
      "cell_type": "code",
      "metadata": {
        "id": "7XopEPyUrpCi"
      },
      "source": [
        "\n",
        " \n",
        "plt.figure(0)\n",
        "plt.plot(history.history['accuracy'], label='training accuracy')\n",
        "plt.plot(history.history['val_accuracy'], label='val accuracy')\n",
        "plt.title('Accuracy')\n",
        "plt.xlabel('epochs')\n",
        "plt.ylabel('accuracy')\n",
        "plt.legend()\n",
        "plt.show()"
      ],
      "execution_count": null,
      "outputs": []
    },
    {
      "cell_type": "markdown",
      "metadata": {
        "id": "RmNdQ7y4truV"
      },
      "source": [
        "# Loss\n"
      ]
    },
    {
      "cell_type": "code",
      "metadata": {
        "id": "aQgm9eGxrrGT"
      },
      "source": [
        "plt.plot(history.history['loss'], label='training loss')\n",
        "plt.plot(history.history['val_loss'], label='val loss')\n",
        "plt.title('Loss')\n",
        "plt.xlabel('epochs')\n",
        "plt.ylabel('loss')\n",
        "plt.legend()\n",
        "plt.show()"
      ],
      "execution_count": null,
      "outputs": []
    },
    {
      "cell_type": "markdown",
      "metadata": {
        "id": "G5HxBmVftvj8"
      },
      "source": [
        "#Testing on Test data"
      ]
    },
    {
      "cell_type": "code",
      "metadata": {
        "id": "Ilpb16EIruxa"
      },
      "source": [
        "def testing(testcsv):\n",
        "    y_test = pd.read_csv(testcsv)\n",
        "    label = y_test[\"ClassId\"].values\n",
        "    imgs = y_test[\"Path\"].values\n",
        "    data=[]\n",
        "    for img in imgs:\n",
        "        image = Image.open(img)\n",
        "        image = image.resize((30,30))\n",
        "        data.append(np.array(image))\n",
        "    X_test=np.array(data)\n",
        "    return X_test,label"
      ],
      "execution_count": null,
      "outputs": []
    },
    {
      "cell_type": "code",
      "metadata": {
        "id": "BmfCZX-QrwkL"
      },
      "source": [
        "X_test, label = testing('Test.csv')\n"
      ],
      "execution_count": null,
      "outputs": []
    },
    {
      "cell_type": "code",
      "metadata": {
        "id": "1tscEF9drxFj"
      },
      "source": [
        "Y_pred = model.predict_classes(X_test)\n",
        "Y_pred"
      ],
      "execution_count": null,
      "outputs": []
    },
    {
      "cell_type": "markdown",
      "metadata": {
        "id": "kI2HruHat1ii"
      },
      "source": [
        "#Accuracy with the test data"
      ]
    },
    {
      "cell_type": "code",
      "metadata": {
        "id": "S2bHl-g2rzZt"
      },
      "source": [
        "\n",
        "from sklearn.metrics import accuracy_score\n",
        "print(accuracy_score(label, Y_pred))"
      ],
      "execution_count": null,
      "outputs": []
    },
    {
      "cell_type": "markdown",
      "metadata": {
        "id": "UO7uVCGbt5ci"
      },
      "source": [
        "#Save the model"
      ]
    },
    {
      "cell_type": "code",
      "metadata": {
        "id": "xFBzeXher4uS"
      },
      "source": [
        "\n",
        "model.save(\"./training/TSR.h5\")"
      ],
      "execution_count": null,
      "outputs": []
    },
    {
      "cell_type": "markdown",
      "metadata": {
        "id": "yQKTosN5t7B6"
      },
      "source": [
        "#Load the model"
      ]
    },
    {
      "cell_type": "code",
      "metadata": {
        "id": "kuJoOATcr6-K"
      },
      "source": [
        "import os\n",
        "os.chdir(r'D:\\Traffic_Sign_Recognition')\n",
        "from keras.models import load_model\n",
        "model = load_model('./training/TSR.h5')"
      ],
      "execution_count": null,
      "outputs": []
    },
    {
      "cell_type": "markdown",
      "metadata": {
        "id": "HBYB71gxuAvS"
      },
      "source": [
        "# Classes of trafic signs"
      ]
    },
    {
      "cell_type": "code",
      "metadata": {
        "id": "LYjR80wvr8ti"
      },
      "source": [
        "\n",
        "classes = { 0:'Speed limit (20km/h)',\n",
        "            1:'Speed limit (30km/h)', \n",
        "            2:'Speed limit (50km/h)', \n",
        "            3:'Speed limit (60km/h)', \n",
        "            4:'Speed limit (70km/h)', \n",
        "            5:'Speed limit (80km/h)', \n",
        "            6:'End of speed limit (80km/h)', \n",
        "            7:'Speed limit (100km/h)', \n",
        "            8:'Speed limit (120km/h)', \n",
        "            9:'No passing', \n",
        "            10:'No passing veh over 3.5 tons', \n",
        "            11:'Right-of-way at intersection', \n",
        "            12:'Priority road', \n",
        "            13:'Yield', \n",
        "            14:'Stop', \n",
        "            15:'No vehicles', \n",
        "            16:'Veh > 3.5 tons prohibited', \n",
        "            17:'No entry', \n",
        "            18:'General caution', \n",
        "            19:'Dangerous curve left', \n",
        "            20:'Dangerous curve right', \n",
        "            21:'Double curve', \n",
        "            22:'Bumpy road', \n",
        "            23:'Slippery road', \n",
        "            24:'Road narrows on the right', \n",
        "            25:'Road work', \n",
        "            26:'Traffic signals', \n",
        "            27:'Pedestrians', \n",
        "            28:'Children crossing', \n",
        "            29:'Bicycles crossing', \n",
        "            30:'Beware of ice/snow',\n",
        "            31:'Wild animals crossing', \n",
        "            32:'End speed + passing limits', \n",
        "            33:'Turn right ahead', \n",
        "            34:'Turn left ahead', \n",
        "            35:'Ahead only', \n",
        "            #36:'Go straight or right', \n",
        "            #37:'Go straight or left', \n",
        "            #38:'Keep right', \n",
        "            #39:'Keep left', \n",
        "            #40:'Roundabout mandatory', \n",
        "            #41:'End of no passing', \n",
        "            #42:'End no passing veh > 3.5 tons'\n",
        "             }"
      ],
      "execution_count": null,
      "outputs": []
    },
    {
      "cell_type": "code",
      "metadata": {
        "id": "WIpi2PXtsA-b"
      },
      "source": [
        "from PIL import Image\n",
        "import numpy as np\n",
        "import matplotlib.pyplot as plt\n",
        "def test_on_img(img):\n",
        "    data=[]\n",
        "    image = Image.open(img)\n",
        "    image = image.resize((30,30))\n",
        "    data.append(np.array(image))\n",
        "    X_test=np.array(data)\n",
        "    Y_pred = model.predict_classes(X_test)\n",
        "    return image,Y_pred"
      ],
      "execution_count": null,
      "outputs": []
    },
    {
      "cell_type": "code",
      "metadata": {
        "id": "RJZiQadpsFWa"
      },
      "source": [
        "\n",
        "plot,prediction = test_on_img(r'D:\\Traffic_Sign_Recognition\\Test\\00500.png')\n",
        "s = [str(i) for i in prediction] \n",
        "a = int(\"\".join(s)) \n",
        "print(\"Predicted traffic sign is: \", classes[a])\n",
        "plt.imshow(plot)\n",
        "plt.show()"
      ],
      "execution_count": null,
      "outputs": []
    },
    {
      "cell_type": "code",
      "metadata": {
        "id": "Zhp1xNWxsHXS"
      },
      "source": [
        ""
      ],
      "execution_count": null,
      "outputs": []
    }
  ]
}